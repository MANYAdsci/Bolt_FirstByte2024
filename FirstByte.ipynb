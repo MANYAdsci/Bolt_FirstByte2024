{
 "cells": [
  {
   "cell_type": "markdown",
   "id": "dc9d93ce-7399-4e9f-9864-0b6a561910ee",
   "metadata": {},
   "source": [
    "# FirstByte\n",
    "\n",
    "### Project: FlexField Fitness Partnership Analysis\n",
    "\n",
    "This project aims to analyze and visualize data for the FirstByte 2024 competition to assist FlexField Fitness in selecting the best partnership strategy. Through data-driven insights, we will explore customer behavior, product performance, and provide actionable recommendations.\n"
   ]
  },
  {
   "cell_type": "code",
   "execution_count": 1,
   "id": "ed74c105-512f-48b9-8bd0-ace1e40373e5",
   "metadata": {},
   "outputs": [
    {
     "name": "stderr",
     "output_type": "stream",
     "text": [
      "Installing package into ‘/home/jupyter/R/x86_64-pc-linux-gnu-library/4.3’\n",
      "(as ‘lib’ is unspecified)\n",
      "\n",
      "Warning message:\n",
      "“unable to access index for repository https://mirror.rcg.sfu.ca/mirror/CRAN/src/contrib:\n",
      "  cannot open URL 'https://mirror.rcg.sfu.ca/mirror/CRAN/src/contrib/PACKAGES'”\n",
      "Warning message:\n",
      "“package ‘tidyverse’ is not available for this version of R\n",
      "\n",
      "A version of this package for your version of R might be available elsewhere,\n",
      "see the ideas at\n",
      "https://cran.r-project.org/doc/manuals/r-patched/R-admin.html#Installing-packages”\n",
      "── \u001b[1mAttaching core tidyverse packages\u001b[22m ──────────────────────── tidyverse 2.0.0 ──\n",
      "\u001b[32m✔\u001b[39m \u001b[34mdplyr    \u001b[39m 1.1.4     \u001b[32m✔\u001b[39m \u001b[34mreadr    \u001b[39m 2.1.5\n",
      "\u001b[32m✔\u001b[39m \u001b[34mforcats  \u001b[39m 1.0.0     \u001b[32m✔\u001b[39m \u001b[34mstringr  \u001b[39m 1.5.1\n",
      "\u001b[32m✔\u001b[39m \u001b[34mggplot2  \u001b[39m 3.5.1     \u001b[32m✔\u001b[39m \u001b[34mtibble   \u001b[39m 3.2.1\n",
      "\u001b[32m✔\u001b[39m \u001b[34mlubridate\u001b[39m 1.9.3     \u001b[32m✔\u001b[39m \u001b[34mtidyr    \u001b[39m 1.3.1\n",
      "\u001b[32m✔\u001b[39m \u001b[34mpurrr    \u001b[39m 1.0.2     \n",
      "── \u001b[1mConflicts\u001b[22m ────────────────────────────────────────── tidyverse_conflicts() ──\n",
      "\u001b[31m✖\u001b[39m \u001b[34mdplyr\u001b[39m::\u001b[32mfilter()\u001b[39m masks \u001b[34mstats\u001b[39m::filter()\n",
      "\u001b[31m✖\u001b[39m \u001b[34mdplyr\u001b[39m::\u001b[32mlag()\u001b[39m    masks \u001b[34mstats\u001b[39m::lag()\n",
      "\u001b[36mℹ\u001b[39m Use the conflicted package (\u001b[3m\u001b[34m<http://conflicted.r-lib.org/>\u001b[39m\u001b[23m) to force all conflicts to become errors\n"
     ]
    }
   ],
   "source": [
    "install.packages(\"tidyverse\")\n",
    "library(tidyverse)\n",
    "library(dplyr)\n",
    "library(ggplot2)"
   ]
  },
  {
   "cell_type": "markdown",
   "id": "6893f5df-6f86-4eff-89db-e73586c8ab1a",
   "metadata": {},
   "source": [
    "#### Data Upload"
   ]
  },
  {
   "cell_type": "code",
   "execution_count": 2,
   "id": "6fb31e5d-4b45-42fe-a6e5-862dec004cfa",
   "metadata": {},
   "outputs": [],
   "source": [
    "chefs_meal <- read.csv(\"chefsmeal.csv\")\n",
    "coreboost <- read.csv(\"coreboost.csv\")\n",
    "flexfield_fitness <- read.csv(\"flexfield_fitness.csv\")\n",
    "pulsegear <- read.csv(\"pulsegear.csv\")"
   ]
  },
  {
   "cell_type": "markdown",
   "id": "abf3037e-ef2e-4a96-ada1-78e5bf914fc7",
   "metadata": {},
   "source": [
    "#### Data cleaning\n",
    "##### 1. check for missing values"
   ]
  },
  {
   "cell_type": "code",
   "execution_count": 3,
   "id": "ed203169-1e5f-4c21-86b7-3864563b1ce3",
   "metadata": {},
   "outputs": [
    {
     "data": {
      "text/html": [
       "<style>\n",
       ".dl-inline {width: auto; margin:0; padding: 0}\n",
       ".dl-inline>dt, .dl-inline>dd {float: none; width: auto; display: inline-block}\n",
       ".dl-inline>dt::after {content: \":\\0020\"; padding-right: .5ex}\n",
       ".dl-inline>dt:not(:first-of-type) {padding-left: .5ex}\n",
       "</style><dl class=dl-inline><dt>Customer.ID</dt><dd>0</dd><dt>Gender</dt><dd>0</dd><dt>Age</dt><dd>0</dd><dt>Hours.at.Gym..per.week.</dt><dd>65</dd><dt>Fitness.Goal</dt><dd>0</dd><dt>Gym.Membership.Length..years.</dt><dd>0</dd><dt>Calorie.Intake</dt><dd>39</dd></dl>\n"
      ],
      "text/latex": [
       "\\begin{description*}\n",
       "\\item[Customer.ID] 0\n",
       "\\item[Gender] 0\n",
       "\\item[Age] 0\n",
       "\\item[Hours.at.Gym..per.week.] 65\n",
       "\\item[Fitness.Goal] 0\n",
       "\\item[Gym.Membership.Length..years.] 0\n",
       "\\item[Calorie.Intake] 39\n",
       "\\end{description*}\n"
      ],
      "text/markdown": [
       "Customer.ID\n",
       ":   0Gender\n",
       ":   0Age\n",
       ":   0Hours.at.Gym..per.week.\n",
       ":   65Fitness.Goal\n",
       ":   0Gym.Membership.Length..years.\n",
       ":   0Calorie.Intake\n",
       ":   39\n",
       "\n"
      ],
      "text/plain": [
       "                  Customer.ID                        Gender \n",
       "                            0                             0 \n",
       "                          Age       Hours.at.Gym..per.week. \n",
       "                            0                            65 \n",
       "                 Fitness.Goal Gym.Membership.Length..years. \n",
       "                            0                             0 \n",
       "               Calorie.Intake \n",
       "                           39 "
      ]
     },
     "metadata": {},
     "output_type": "display_data"
    }
   ],
   "source": [
    "colSums(is.na(flexfield_fitness))"
   ]
  },
  {
   "cell_type": "code",
   "execution_count": 4,
   "id": "ba30ebf2-5232-4a85-912f-4cbe1fcf2b24",
   "metadata": {},
   "outputs": [
    {
     "data": {
      "text/html": [
       "<style>\n",
       ".dl-inline {width: auto; margin:0; padding: 0}\n",
       ".dl-inline>dt, .dl-inline>dd {float: none; width: auto; display: inline-block}\n",
       ".dl-inline>dt::after {content: \":\\0020\"; padding-right: .5ex}\n",
       ".dl-inline>dt:not(:first-of-type) {padding-left: .5ex}\n",
       "</style><dl class=dl-inline><dt>Customer.ID</dt><dd>0</dd><dt>Gender</dt><dd>0</dd><dt>Age</dt><dd>0</dd><dt>Hours.at.Gym..per.week.</dt><dd>65</dd><dt>Fitness.Goal</dt><dd>0</dd><dt>Calorie.Intake</dt><dd>39</dd><dt>Dietary.Preferences</dt><dd>0</dd><dt>Average.Spend.per.Meal.Order</dt><dd>42</dd></dl>\n"
      ],
      "text/latex": [
       "\\begin{description*}\n",
       "\\item[Customer.ID] 0\n",
       "\\item[Gender] 0\n",
       "\\item[Age] 0\n",
       "\\item[Hours.at.Gym..per.week.] 65\n",
       "\\item[Fitness.Goal] 0\n",
       "\\item[Calorie.Intake] 39\n",
       "\\item[Dietary.Preferences] 0\n",
       "\\item[Average.Spend.per.Meal.Order] 42\n",
       "\\end{description*}\n"
      ],
      "text/markdown": [
       "Customer.ID\n",
       ":   0Gender\n",
       ":   0Age\n",
       ":   0Hours.at.Gym..per.week.\n",
       ":   65Fitness.Goal\n",
       ":   0Calorie.Intake\n",
       ":   39Dietary.Preferences\n",
       ":   0Average.Spend.per.Meal.Order\n",
       ":   42\n",
       "\n"
      ],
      "text/plain": [
       "                 Customer.ID                       Gender \n",
       "                           0                            0 \n",
       "                         Age      Hours.at.Gym..per.week. \n",
       "                           0                           65 \n",
       "                Fitness.Goal               Calorie.Intake \n",
       "                           0                           39 \n",
       "         Dietary.Preferences Average.Spend.per.Meal.Order \n",
       "                           0                           42 "
      ]
     },
     "metadata": {},
     "output_type": "display_data"
    }
   ],
   "source": [
    "colSums(is.na(chefs_meal))"
   ]
  },
  {
   "cell_type": "code",
   "execution_count": 5,
   "id": "8299ee59-1e68-499e-973d-5fcf4c4f13a5",
   "metadata": {},
   "outputs": [
    {
     "data": {
      "text/html": [
       "<style>\n",
       ".dl-inline {width: auto; margin:0; padding: 0}\n",
       ".dl-inline>dt, .dl-inline>dd {float: none; width: auto; display: inline-block}\n",
       ".dl-inline>dt::after {content: \":\\0020\"; padding-right: .5ex}\n",
       ".dl-inline>dt:not(:first-of-type) {padding-left: .5ex}\n",
       "</style><dl class=dl-inline><dt>Customer.ID</dt><dd>0</dd><dt>Gender</dt><dd>0</dd><dt>Age</dt><dd>0</dd><dt>Hours.at.Gym..per.week.</dt><dd>65</dd><dt>Fitness.Goal</dt><dd>0</dd><dt>Preferred.Sports.Drink.Type</dt><dd>0</dd><dt>Average.Weekly.Consumption..Bottles.</dt><dd>0</dd></dl>\n"
      ],
      "text/latex": [
       "\\begin{description*}\n",
       "\\item[Customer.ID] 0\n",
       "\\item[Gender] 0\n",
       "\\item[Age] 0\n",
       "\\item[Hours.at.Gym..per.week.] 65\n",
       "\\item[Fitness.Goal] 0\n",
       "\\item[Preferred.Sports.Drink.Type] 0\n",
       "\\item[Average.Weekly.Consumption..Bottles.] 0\n",
       "\\end{description*}\n"
      ],
      "text/markdown": [
       "Customer.ID\n",
       ":   0Gender\n",
       ":   0Age\n",
       ":   0Hours.at.Gym..per.week.\n",
       ":   65Fitness.Goal\n",
       ":   0Preferred.Sports.Drink.Type\n",
       ":   0Average.Weekly.Consumption..Bottles.\n",
       ":   0\n",
       "\n"
      ],
      "text/plain": [
       "                         Customer.ID                               Gender \n",
       "                                   0                                    0 \n",
       "                                 Age              Hours.at.Gym..per.week. \n",
       "                                   0                                   65 \n",
       "                        Fitness.Goal          Preferred.Sports.Drink.Type \n",
       "                                   0                                    0 \n",
       "Average.Weekly.Consumption..Bottles. \n",
       "                                   0 "
      ]
     },
     "metadata": {},
     "output_type": "display_data"
    }
   ],
   "source": [
    "colSums(is.na(coreboost))"
   ]
  },
  {
   "cell_type": "code",
   "execution_count": 6,
   "id": "09628144-ae84-4fa2-89c8-0094b16e1775",
   "metadata": {},
   "outputs": [
    {
     "data": {
      "text/html": [
       "<style>\n",
       ".dl-inline {width: auto; margin:0; padding: 0}\n",
       ".dl-inline>dt, .dl-inline>dd {float: none; width: auto; display: inline-block}\n",
       ".dl-inline>dt::after {content: \":\\0020\"; padding-right: .5ex}\n",
       ".dl-inline>dt:not(:first-of-type) {padding-left: .5ex}\n",
       "</style><dl class=dl-inline><dt>Customer.ID</dt><dd>0</dd><dt>Gender</dt><dd>0</dd><dt>Age</dt><dd>0</dd><dt>Hours.at.Gym..per.week.</dt><dd>65</dd><dt>Fitness.Goal</dt><dd>0</dd><dt>Average.Spend.on.Apparel....year.</dt><dd>0</dd><dt>Type.of.Apparel.Purchased</dt><dd>0</dd><dt>Primary.Apparel.Purchase.Channel</dt><dd>0</dd></dl>\n"
      ],
      "text/latex": [
       "\\begin{description*}\n",
       "\\item[Customer.ID] 0\n",
       "\\item[Gender] 0\n",
       "\\item[Age] 0\n",
       "\\item[Hours.at.Gym..per.week.] 65\n",
       "\\item[Fitness.Goal] 0\n",
       "\\item[Average.Spend.on.Apparel....year.] 0\n",
       "\\item[Type.of.Apparel.Purchased] 0\n",
       "\\item[Primary.Apparel.Purchase.Channel] 0\n",
       "\\end{description*}\n"
      ],
      "text/markdown": [
       "Customer.ID\n",
       ":   0Gender\n",
       ":   0Age\n",
       ":   0Hours.at.Gym..per.week.\n",
       ":   65Fitness.Goal\n",
       ":   0Average.Spend.on.Apparel....year.\n",
       ":   0Type.of.Apparel.Purchased\n",
       ":   0Primary.Apparel.Purchase.Channel\n",
       ":   0\n",
       "\n"
      ],
      "text/plain": [
       "                      Customer.ID                            Gender \n",
       "                                0                                 0 \n",
       "                              Age           Hours.at.Gym..per.week. \n",
       "                                0                                65 \n",
       "                     Fitness.Goal Average.Spend.on.Apparel....year. \n",
       "                                0                                 0 \n",
       "        Type.of.Apparel.Purchased  Primary.Apparel.Purchase.Channel \n",
       "                                0                                 0 "
      ]
     },
     "metadata": {},
     "output_type": "display_data"
    }
   ],
   "source": [
    "colSums(is.na(pulsegear));"
   ]
  },
  {
   "cell_type": "markdown",
   "id": "591c5f2e-e98c-4311-9a99-1a8c2f7602c7",
   "metadata": {},
   "source": [
    "##### 2. checking if values in all common columns in the datasets are the same"
   ]
  },
  {
   "cell_type": "code",
   "execution_count": 7,
   "id": "e6da435f-041c-458e-915b-d9320cfe3195",
   "metadata": {},
   "outputs": [],
   "source": [
    "# # List of common columns to check\n",
    "# common_columns <- c(\"Customer.ID\", \"Gender\", \"Age\", \"Hours.at.Gym..per.week.\", \"Fitness.Goal\")\n",
    "\n",
    "# # Loop through each common column to check for row-by-row differences\n",
    "# for (col in common_columns) {\n",
    "#   # Check if values are identical row-by-row across all datasets for the column\n",
    "#   differences <- (flexfield_fitness[[col]] != chefs_meal[[col]]) |\n",
    "#                  (flexfield_fitness[[col]] != coreboost[[col]]) |\n",
    "#                  (flexfield_fitness[[col]] != pulsegear[[col]])\n",
    "  \n",
    "#   # Filter and print only rows with differences for this column\n",
    "#   if (any(differences, na.rm = TRUE)) {\n",
    "#     cat(\"Differences found in column:\", col, \"\\n\")\n",
    "#     diff_rows <- data.frame(\n",
    "#       Row = which(differences),  # Row number\n",
    "#       Customer.ID = flexfield_fitness$Customer.ID[differences],\n",
    "#       flexfield_fitness = flexfield_fitness[[col]][differences],\n",
    "#       chefs_meal = chefs_meal[[col]][differences],\n",
    "#       coreboost = coreboost[[col]][differences],\n",
    "#       pulsegear = pulsegear[[col]][differences]\n",
    "#     )\n",
    "#     print(diff_rows)\n",
    "#     cat(\"\\n\")\n",
    "#   } else {\n",
    "#     cat(\"No differences found in column:\", col, \"\\n\")\n",
    "#   }\n",
    "# }"
   ]
  },
  {
   "cell_type": "markdown",
   "id": "7613e32d-ee92-4acf-8ba2-9d9dd71703ec",
   "metadata": {},
   "source": [
    "##### it is checked that same columns contain the same values across all datasets\n",
    "##### now integrating all the datasets into one"
   ]
  },
  {
   "cell_type": "code",
   "execution_count": 8,
   "id": "aeb72645-d2b9-4858-a957-0a26eadc7ccd",
   "metadata": {},
   "outputs": [],
   "source": [
    "# Remove common columns from each dataset before merging\n",
    "chefs_meal <- chefs_meal %>% select(-Gender, -Age, -Hours.at.Gym..per.week., -Fitness.Goal)\n",
    "coreboost <- coreboost %>% select(-Gender, -Age, -Hours.at.Gym..per.week., -Fitness.Goal)\n",
    "pulsegear <- pulsegear %>% select(-Gender, -Age, -Hours.at.Gym..per.week., -Fitness.Goal)"
   ]
  },
  {
   "cell_type": "code",
   "execution_count": 9,
   "id": "0f57e3ab-8d93-46e3-94b3-60587208ef73",
   "metadata": {},
   "outputs": [],
   "source": [
    "integrated_data <- flexfield_fitness %>%\n",
    "  left_join(chefs_meal, by = \"Customer.ID\") %>%\n",
    "  left_join(coreboost, by = \"Customer.ID\") %>%\n",
    "  left_join(pulsegear, by = \"Customer.ID\")"
   ]
  },
  {
   "cell_type": "code",
   "execution_count": 10,
   "id": "62599551-5985-4a77-9763-b520662426b5",
   "metadata": {},
   "outputs": [
    {
     "name": "stdout",
     "output_type": "stream",
     "text": [
      "Rows: 1,000\n",
      "Columns: 15\n",
      "$ Customer.ID                          \u001b[3m\u001b[90m<int>\u001b[39m\u001b[23m 221958, 771155, 231932, 465838, 3…\n",
      "$ Gender                               \u001b[3m\u001b[90m<chr>\u001b[39m\u001b[23m \"Female\", \"Female\", \"Male\", \"Fema…\n",
      "$ Age                                  \u001b[3m\u001b[90m<int>\u001b[39m\u001b[23m 27, 24, 22, 23, 18, 23, 30, 26, 3…\n",
      "$ Hours.at.Gym..per.week.              \u001b[3m\u001b[90m<dbl>\u001b[39m\u001b[23m 7.3, 6.2, 7.4, 6.0, 9.3, 5.7, 5.5…\n",
      "$ Fitness.Goal                         \u001b[3m\u001b[90m<chr>\u001b[39m\u001b[23m \"Build muscle\", \"Endurance traini…\n",
      "$ Gym.Membership.Length..years.        \u001b[3m\u001b[90m<int>\u001b[39m\u001b[23m 4, 4, 2, 0, 5, 1, 2, 1, 4, 0, 1, …\n",
      "$ Calorie.Intake.x                     \u001b[3m\u001b[90m<dbl>\u001b[39m\u001b[23m NA, 2173, 1752, 2884, 2559, 1606,…\n",
      "$ Calorie.Intake.y                     \u001b[3m\u001b[90m<dbl>\u001b[39m\u001b[23m NA, 2173, 1752, 2884, 2559, 1606,…\n",
      "$ Dietary.Preferences                  \u001b[3m\u001b[90m<chr>\u001b[39m\u001b[23m \"Whole foods\", \"Whole foods\", \"Wh…\n",
      "$ Average.Spend.per.Meal.Order         \u001b[3m\u001b[90m<dbl>\u001b[39m\u001b[23m 67.15, 52.94, 38.13, 61.44, 69.78…\n",
      "$ Preferred.Sports.Drink.Type          \u001b[3m\u001b[90m<chr>\u001b[39m\u001b[23m \"Electrolyte\", \"Electrolyte\", \"El…\n",
      "$ Average.Weekly.Consumption..Bottles. \u001b[3m\u001b[90m<int>\u001b[39m\u001b[23m 10, 11, 12, 10, 14, 10, 10, 10, 1…\n",
      "$ Average.Spend.on.Apparel....year.    \u001b[3m\u001b[90m<dbl>\u001b[39m\u001b[23m 643.34, 659.13, 761.12, 234.87, 5…\n",
      "$ Type.of.Apparel.Purchased            \u001b[3m\u001b[90m<chr>\u001b[39m\u001b[23m \"Accessories\", \"Leisure\", \"Perfor…\n",
      "$ Primary.Apparel.Purchase.Channel     \u001b[3m\u001b[90m<chr>\u001b[39m\u001b[23m \"Brand Website\", \"Physical Retail…\n"
     ]
    },
    {
     "data": {
      "text/plain": [
       "  Customer.ID        Gender               Age        Hours.at.Gym..per.week.\n",
       " Min.   :100404   Length:1000        Min.   :18.00   Min.   : 3.000         \n",
       " 1st Qu.:301536   Class :character   1st Qu.:23.00   1st Qu.: 5.300         \n",
       " Median :538556   Mode  :character   Median :27.00   Median : 6.100         \n",
       " Mean   :538112                      Mean   :27.13   Mean   : 6.149         \n",
       " 3rd Qu.:762517                      3rd Qu.:31.00   3rd Qu.: 7.100         \n",
       " Max.   :999684                      Max.   :44.00   Max.   :10.300         \n",
       "                                                     NA's   :65             \n",
       " Fitness.Goal       Gym.Membership.Length..years. Calorie.Intake.x\n",
       " Length:1000        Min.   :0.000                 Min.   :1500    \n",
       " Class :character   1st Qu.:1.000                 1st Qu.:1922    \n",
       " Mode  :character   Median :2.000                 Median :2321    \n",
       "                    Mean   :2.507                 Mean   :2295    \n",
       "                    3rd Qu.:4.000                 3rd Qu.:2686    \n",
       "                    Max.   :7.000                 Max.   :2997    \n",
       "                                                  NA's   :39      \n",
       " Calorie.Intake.y Dietary.Preferences Average.Spend.per.Meal.Order\n",
       " Min.   :1500     Length:1000         Min.   :21.75               \n",
       " 1st Qu.:1922     Class :character    1st Qu.:42.07               \n",
       " Median :2321     Mode  :character    Median :50.32               \n",
       " Mean   :2295                         Mean   :50.09               \n",
       " 3rd Qu.:2686                         3rd Qu.:57.58               \n",
       " Max.   :2997                         Max.   :80.59               \n",
       " NA's   :39                           NA's   :42                  \n",
       " Preferred.Sports.Drink.Type Average.Weekly.Consumption..Bottles.\n",
       " Length:1000                 Min.   : 4.00                       \n",
       " Class :character            1st Qu.: 8.00                       \n",
       " Mode  :character            Median :10.00                       \n",
       "                             Mean   :10.14                       \n",
       "                             3rd Qu.:12.00                       \n",
       "                             Max.   :20.00                       \n",
       "                                                                 \n",
       " Average.Spend.on.Apparel....year. Type.of.Apparel.Purchased\n",
       " Min.   :   0.0                    Length:1000              \n",
       " 1st Qu.: 585.0                    Class :character         \n",
       " Median : 713.3                    Mode  :character         \n",
       " Mean   : 700.1                                             \n",
       " 3rd Qu.: 836.9                                             \n",
       " Max.   :1152.4                                             \n",
       "                                                            \n",
       " Primary.Apparel.Purchase.Channel\n",
       " Length:1000                     \n",
       " Class :character                \n",
       " Mode  :character                \n",
       "                                 \n",
       "                                 \n",
       "                                 \n",
       "                                 "
      ]
     },
     "metadata": {},
     "output_type": "display_data"
    }
   ],
   "source": [
    "glimpse(integrated_data)\n",
    "summary(integrated_data)"
   ]
  },
  {
   "cell_type": "code",
   "execution_count": 11,
   "id": "ae052aa6-0fb0-427a-ad53-31e0e9233dbe",
   "metadata": {},
   "outputs": [
    {
     "name": "stdout",
     "output_type": "stream",
     "text": [
      "Rows: 1,000\n",
      "Columns: 14\n",
      "$ Customer.ID                          \u001b[3m\u001b[90m<int>\u001b[39m\u001b[23m 221958, 771155, 231932, 465838, 3…\n",
      "$ Gender                               \u001b[3m\u001b[90m<chr>\u001b[39m\u001b[23m \"Female\", \"Female\", \"Male\", \"Fema…\n",
      "$ Age                                  \u001b[3m\u001b[90m<int>\u001b[39m\u001b[23m 27, 24, 22, 23, 18, 23, 30, 26, 3…\n",
      "$ Hours.at.Gym..per.week.              \u001b[3m\u001b[90m<dbl>\u001b[39m\u001b[23m 7.3, 6.2, 7.4, 6.0, 9.3, 5.7, 5.5…\n",
      "$ Fitness.Goal                         \u001b[3m\u001b[90m<chr>\u001b[39m\u001b[23m \"Build muscle\", \"Endurance traini…\n",
      "$ Gym.Membership.Length..years.        \u001b[3m\u001b[90m<int>\u001b[39m\u001b[23m 4, 4, 2, 0, 5, 1, 2, 1, 4, 0, 1, …\n",
      "$ Dietary.Preferences                  \u001b[3m\u001b[90m<chr>\u001b[39m\u001b[23m \"Whole foods\", \"Whole foods\", \"Wh…\n",
      "$ Average.Spend.per.Meal.Order         \u001b[3m\u001b[90m<dbl>\u001b[39m\u001b[23m 67.15, 52.94, 38.13, 61.44, 69.78…\n",
      "$ Preferred.Sports.Drink.Type          \u001b[3m\u001b[90m<chr>\u001b[39m\u001b[23m \"Electrolyte\", \"Electrolyte\", \"El…\n",
      "$ Average.Weekly.Consumption..Bottles. \u001b[3m\u001b[90m<int>\u001b[39m\u001b[23m 10, 11, 12, 10, 14, 10, 10, 10, 1…\n",
      "$ Average.Spend.on.Apparel....year.    \u001b[3m\u001b[90m<dbl>\u001b[39m\u001b[23m 643.34, 659.13, 761.12, 234.87, 5…\n",
      "$ Type.of.Apparel.Purchased            \u001b[3m\u001b[90m<chr>\u001b[39m\u001b[23m \"Accessories\", \"Leisure\", \"Perfor…\n",
      "$ Primary.Apparel.Purchase.Channel     \u001b[3m\u001b[90m<chr>\u001b[39m\u001b[23m \"Brand Website\", \"Physical Retail…\n",
      "$ Calorie.Intake                       \u001b[3m\u001b[90m<dbl>\u001b[39m\u001b[23m NA, 2173, 1752, 2884, 2559, 1606,…\n"
     ]
    }
   ],
   "source": [
    "# Combine the two columns, using .x if available, otherwise using .y\n",
    "integrated_data$Calorie.Intake <- ifelse(!is.na(integrated_data$Calorie.Intake.x), \n",
    "                                         integrated_data$Calorie.Intake.x, \n",
    "                                         integrated_data$Calorie.Intake.y)\n",
    "\n",
    "# Remove the original columns with .x and .y suffixes\n",
    "integrated_data <- integrated_data %>%\n",
    "  select(-Calorie.Intake.x, -Calorie.Intake.y)\n",
    "\n",
    "# Verify the result\n",
    "glimpse(integrated_data)"
   ]
  },
  {
   "cell_type": "markdown",
   "id": "785435a5-7b6b-4a20-86c0-59996cb3308d",
   "metadata": {},
   "source": [
    "##### calorie intake has a few NA values. now determining the variable calorie intake depends upon."
   ]
  },
  {
   "cell_type": "code",
   "execution_count": 12,
   "id": "9b22c50b-b155-46ab-a91e-39dddb27e26b",
   "metadata": {},
   "outputs": [
    {
     "name": "stdout",
     "output_type": "stream",
     "text": [
      "                                              Age Hours.at.Gym..per.week.\n",
      "Age                                   1.000000000             -0.31373620\n",
      "Hours.at.Gym..per.week.              -0.313736202              1.00000000\n",
      "Gym.Membership.Length..years.         0.026679710              0.65131765\n",
      "Average.Spend.per.Meal.Order         -0.033808280             -0.02164585\n",
      "Average.Weekly.Consumption..Bottles. -0.142838215              0.38431616\n",
      "Average.Spend.on.Apparel....year.     0.059456313              0.02116916\n",
      "Calorie.Intake                        0.007640374             -0.06357413\n",
      "                                     Gym.Membership.Length..years.\n",
      "Age                                                     0.02667971\n",
      "Hours.at.Gym..per.week.                                 0.65131765\n",
      "Gym.Membership.Length..years.                           1.00000000\n",
      "Average.Spend.per.Meal.Order                            0.08895411\n",
      "Average.Weekly.Consumption..Bottles.                    0.27722957\n",
      "Average.Spend.on.Apparel....year.                       0.04660814\n",
      "Calorie.Intake                                          0.04047959\n",
      "                                     Average.Spend.per.Meal.Order\n",
      "Age                                                  -0.033808280\n",
      "Hours.at.Gym..per.week.                              -0.021645848\n",
      "Gym.Membership.Length..years.                         0.088954111\n",
      "Average.Spend.per.Meal.Order                          1.000000000\n",
      "Average.Weekly.Consumption..Bottles.                  0.063558461\n",
      "Average.Spend.on.Apparel....year.                    -0.006821659\n",
      "Calorie.Intake                                        0.738502830\n",
      "                                     Average.Weekly.Consumption..Bottles.\n",
      "Age                                                           -0.14283822\n",
      "Hours.at.Gym..per.week.                                        0.38431616\n",
      "Gym.Membership.Length..years.                                  0.27722957\n",
      "Average.Spend.per.Meal.Order                                   0.06355846\n",
      "Average.Weekly.Consumption..Bottles.                           1.00000000\n",
      "Average.Spend.on.Apparel....year.                             -0.00731697\n",
      "Calorie.Intake                                                 0.02211278\n",
      "                                     Average.Spend.on.Apparel....year.\n",
      "Age                                                        0.059456313\n",
      "Hours.at.Gym..per.week.                                    0.021169158\n",
      "Gym.Membership.Length..years.                              0.046608141\n",
      "Average.Spend.per.Meal.Order                              -0.006821659\n",
      "Average.Weekly.Consumption..Bottles.                      -0.007316970\n",
      "Average.Spend.on.Apparel....year.                          1.000000000\n",
      "Calorie.Intake                                            -0.025700034\n",
      "                                     Calorie.Intake\n",
      "Age                                     0.007640374\n",
      "Hours.at.Gym..per.week.                -0.063574126\n",
      "Gym.Membership.Length..years.           0.040479585\n",
      "Average.Spend.per.Meal.Order            0.738502830\n",
      "Average.Weekly.Consumption..Bottles.    0.022112782\n",
      "Average.Spend.on.Apparel....year.      -0.025700034\n",
      "Calorie.Intake                          1.000000000\n"
     ]
    }
   ],
   "source": [
    "numeric_columns <- integrated_data %>%\n",
    "  select(Age, Hours.at.Gym..per.week., Gym.Membership.Length..years., \n",
    "         Average.Spend.per.Meal.Order, Average.Weekly.Consumption..Bottles., \n",
    "         Average.Spend.on.Apparel....year., Calorie.Intake)\n",
    "\n",
    "# Calculate correlation matrix\n",
    "correlation_matrix <- cor(numeric_columns, use = \"complete.obs\")\n",
    "print(correlation_matrix)"
   ]
  },
  {
   "cell_type": "code",
   "execution_count": 13,
   "id": "81868829-cd68-4f85-8303-741da453e15f",
   "metadata": {},
   "outputs": [
    {
     "name": "stderr",
     "output_type": "stream",
     "text": [
      "Warning message:\n",
      "“\u001b[1m\u001b[22mRemoved 39 rows containing non-finite outside the scale range\n",
      "(`stat_boxplot()`).”\n",
      "Warning message:\n",
      "“\u001b[1m\u001b[22mRemoved 39 rows containing non-finite outside the scale range\n",
      "(`stat_boxplot()`).”\n"
     ]
    },
    {
     "data": {
      "image/png": "[encoded data removed]",
      "text/plain": [
       "plot without title"
      ]
     },
     "metadata": {
      "image/png": {
       "height": 420,
       "width": 420
      }
     },
     "output_type": "display_data"
    },
    {
     "name": "stderr",
     "output_type": "stream",
     "text": [
      "Warning message:\n",
      "“\u001b[1m\u001b[22mRemoved 39 rows containing non-finite outside the scale range\n",
      "(`stat_boxplot()`).”\n"
     ]
    },
    {
     "data": {
      "image/png": "[encoded data removed]",
      "text/plain": [
       "plot without title"
      ]
     },
     "metadata": {
      "image/png": {
       "height": 420,
       "width": 420
      }
     },
     "output_type": "display_data"
    },
    {
     "data": {
      "image/png": "[encoded data removed]",
      "text/plain": [
       "plot without title"
      ]
     },
     "metadata": {
      "image/png": {
       "height": 420,
       "width": 420
      }
     },
     "output_type": "display_data"
    }
   ],
   "source": [
    "library(ggplot2)\n",
    "\n",
    "# Boxplot for Calorie Intake by Gender\n",
    "ggplot(integrated_data, aes(x = Gender, y = Calorie.Intake)) +\n",
    "  geom_boxplot() +\n",
    "  labs(title = \"Calorie Intake by Gender\")\n",
    "\n",
    "# Boxplot for Calorie Intake by Fitness Goal\n",
    "ggplot(integrated_data, aes(x = Fitness.Goal, y = Calorie.Intake)) +\n",
    "  geom_boxplot() +\n",
    "  labs(title = \"Calorie Intake by Fitness Goal\")\n",
    "\n",
    "# Boxplot for Calorie Intake by Dietary Preferences\n",
    "ggplot(integrated_data, aes(x = Dietary.Preferences, y = Calorie.Intake)) +\n",
    "  geom_boxplot() +\n",
    "  labs(title = \"Calorie Intake by Dietary Preferences\")"
   ]
  },
  {
   "cell_type": "code",
   "execution_count": 14,
   "id": "f3cca9a3-c279-4a06-a137-e209d3775b95",
   "metadata": {},
   "outputs": [
    {
     "data": {
      "text/plain": [
       "\n",
       "Call:\n",
       "lm(formula = Calorie.Intake ~ Age + Hours.at.Gym..per.week. + \n",
       "    Gym.Membership.Length..years. + Average.Spend.per.Meal.Order + \n",
       "    Average.Weekly.Consumption..Bottles. + Average.Spend.on.Apparel....year. + \n",
       "    Gender + Fitness.Goal + Dietary.Preferences, data = integrated_data)\n",
       "\n",
       "Residuals:\n",
       "    Min      1Q  Median      3Q     Max \n",
       "-412.14 -102.42    6.96  102.01  357.76 \n",
       "\n",
       "Coefficients:\n",
       "                                       Estimate Std. Error t value Pr(>|t|)    \n",
       "(Intercept)                          1960.07002   75.61385  25.922  < 2e-16 ***\n",
       "Age                                     1.19157    1.09689   1.086 0.277647    \n",
       "Hours.at.Gym..per.week.               -16.84891    7.24999  -2.324 0.020363 *  \n",
       "Gym.Membership.Length..years.           2.14937    4.58410   0.469 0.639279    \n",
       "Average.Spend.per.Meal.Order           13.77346    0.75407  18.265  < 2e-16 ***\n",
       "Average.Weekly.Consumption..Bottles.    2.12568    2.03994   1.042 0.297696    \n",
       "Average.Spend.on.Apparel....year.      -0.01825    0.02896  -0.630 0.528656    \n",
       "GenderMale                             18.12879   11.39464   1.591 0.111986    \n",
       "GenderOther                           -10.64005   23.35331  -0.456 0.648786    \n",
       "Fitness.GoalEndurance training       -377.17031   18.41772 -20.479  < 2e-16 ***\n",
       "Fitness.GoalFat loss                 -731.63199   20.22835 -36.169  < 2e-16 ***\n",
       "Fitness.GoalFlexibility              -664.83021   22.58381 -29.438  < 2e-16 ***\n",
       "Fitness.GoalGeneral health           -427.76809   16.48201 -25.954  < 2e-16 ***\n",
       "Dietary.PreferencesHigh protein        92.29707   24.66325   3.742 0.000195 ***\n",
       "Dietary.PreferencesLow carb           108.08934   27.00900   4.002 6.83e-05 ***\n",
       "Dietary.PreferencesVegan               15.99243   26.79725   0.597 0.550805    \n",
       "Dietary.PreferencesWhole foods        -61.63599   24.63265  -2.502 0.012531 *  \n",
       "---\n",
       "Signif. codes:  0 ‘***’ 0.001 ‘**’ 0.01 ‘*’ 0.05 ‘.’ 0.1 ‘ ’ 1\n",
       "\n",
       "Residual standard error: 138 on 843 degrees of freedom\n",
       "  (140 observations deleted due to missingness)\n",
       "Multiple R-squared:  0.9014,\tAdjusted R-squared:  0.8995 \n",
       "F-statistic: 481.6 on 16 and 843 DF,  p-value: < 2.2e-16\n"
      ]
     },
     "metadata": {},
     "output_type": "display_data"
    }
   ],
   "source": [
    "model <- lm(Calorie.Intake ~ Age + Hours.at.Gym..per.week. + Gym.Membership.Length..years. +\n",
    "            Average.Spend.per.Meal.Order + Average.Weekly.Consumption..Bottles. +\n",
    "            Average.Spend.on.Apparel....year. + Gender + Fitness.Goal + Dietary.Preferences,\n",
    "            data = integrated_data)\n",
    "\n",
    "# Summarize the model\n",
    "summary(model)"
   ]
  },
  {
   "cell_type": "code",
   "execution_count": 15,
   "id": "54de5fdd-a01f-4b80-80ec-7bc56f26107e",
   "metadata": {},
   "outputs": [
    {
     "data": {
      "text/html": [
       "0"
      ],
      "text/latex": [
       "0"
      ],
      "text/markdown": [
       "0"
      ],
      "text/plain": [
       "[1] 0"
      ]
     },
     "metadata": {},
     "output_type": "display_data"
    }
   ],
   "source": [
    "# Calculate the average Calorie.Intake for each combination of Fitness.Goal and Dietary.Preferences\n",
    "group_means <- integrated_data %>%\n",
    "  group_by(Fitness.Goal, Dietary.Preferences) %>%\n",
    "  summarise(mean_calorie_intake = mean(Calorie.Intake, na.rm = TRUE), .groups = 'drop')\n",
    "\n",
    "# Fill in missing Calorie.Intake values based on group means\n",
    "integrated_data <- integrated_data %>%\n",
    "  left_join(group_means, by = c(\"Fitness.Goal\", \"Dietary.Preferences\")) %>%\n",
    "  mutate(Calorie.Intake = ifelse(is.na(Calorie.Intake), mean_calorie_intake, Calorie.Intake)) %>%\n",
    "  select(-mean_calorie_intake) # Remove the temporary column\n",
    "\n",
    "# Verify the result\n",
    "sum(is.na(integrated_data$Calorie.Intake))"
   ]
  },
  {
   "cell_type": "code",
   "execution_count": 16,
   "id": "935ad9ce-ca1b-432d-9b43-f3f2b2bd4d4f",
   "metadata": {},
   "outputs": [
    {
     "data": {
      "text/html": [
       "<style>\n",
       ".dl-inline {width: auto; margin:0; padding: 0}\n",
       ".dl-inline>dt, .dl-inline>dd {float: none; width: auto; display: inline-block}\n",
       ".dl-inline>dt::after {content: \":\\0020\"; padding-right: .5ex}\n",
       ".dl-inline>dt:not(:first-of-type) {padding-left: .5ex}\n",
       "</style><dl class=dl-inline><dt>Customer.ID</dt><dd>0</dd><dt>Gender</dt><dd>0</dd><dt>Age</dt><dd>0</dd><dt>Hours.at.Gym..per.week.</dt><dd>65</dd><dt>Fitness.Goal</dt><dd>0</dd><dt>Gym.Membership.Length..years.</dt><dd>0</dd><dt>Dietary.Preferences</dt><dd>0</dd><dt>Average.Spend.per.Meal.Order</dt><dd>42</dd><dt>Preferred.Sports.Drink.Type</dt><dd>0</dd><dt>Average.Weekly.Consumption..Bottles.</dt><dd>0</dd><dt>Average.Spend.on.Apparel....year.</dt><dd>0</dd><dt>Type.of.Apparel.Purchased</dt><dd>0</dd><dt>Primary.Apparel.Purchase.Channel</dt><dd>0</dd><dt>Calorie.Intake</dt><dd>0</dd></dl>\n"
      ],
      "text/latex": [
       "\\begin{description*}\n",
       "\\item[Customer.ID] 0\n",
       "\\item[Gender] 0\n",
       "\\item[Age] 0\n",
       "\\item[Hours.at.Gym..per.week.] 65\n",
       "\\item[Fitness.Goal] 0\n",
       "\\item[Gym.Membership.Length..years.] 0\n",
       "\\item[Dietary.Preferences] 0\n",
       "\\item[Average.Spend.per.Meal.Order] 42\n",
       "\\item[Preferred.Sports.Drink.Type] 0\n",
       "\\item[Average.Weekly.Consumption..Bottles.] 0\n",
       "\\item[Average.Spend.on.Apparel....year.] 0\n",
       "\\item[Type.of.Apparel.Purchased] 0\n",
       "\\item[Primary.Apparel.Purchase.Channel] 0\n",
       "\\item[Calorie.Intake] 0\n",
       "\\end{description*}\n"
      ],
      "text/markdown": [
       "Customer.ID\n",
       ":   0Gender\n",
       ":   0Age\n",
       ":   0Hours.at.Gym..per.week.\n",
       ":   65Fitness.Goal\n",
       ":   0Gym.Membership.Length..years.\n",
       ":   0Dietary.Preferences\n",
       ":   0Average.Spend.per.Meal.Order\n",
       ":   42Preferred.Sports.Drink.Type\n",
       ":   0Average.Weekly.Consumption..Bottles.\n",
       ":   0Average.Spend.on.Apparel....year.\n",
       ":   0Type.of.Apparel.Purchased\n",
       ":   0Primary.Apparel.Purchase.Channel\n",
       ":   0Calorie.Intake\n",
       ":   0\n",
       "\n"
      ],
      "text/plain": [
       "                         Customer.ID                               Gender \n",
       "                                   0                                    0 \n",
       "                                 Age              Hours.at.Gym..per.week. \n",
       "                                   0                                   65 \n",
       "                        Fitness.Goal        Gym.Membership.Length..years. \n",
       "                                   0                                    0 \n",
       "                 Dietary.Preferences         Average.Spend.per.Meal.Order \n",
       "                                   0                                   42 \n",
       "         Preferred.Sports.Drink.Type Average.Weekly.Consumption..Bottles. \n",
       "                                   0                                    0 \n",
       "   Average.Spend.on.Apparel....year.            Type.of.Apparel.Purchased \n",
       "                                   0                                    0 \n",
       "    Primary.Apparel.Purchase.Channel                       Calorie.Intake \n",
       "                                   0                                    0 "
      ]
     },
     "metadata": {},
     "output_type": "display_data"
    }
   ],
   "source": [
    "colSums(is.na(integrated_data))"
   ]
  },
  {
   "cell_type": "code",
   "execution_count": 17,
   "id": "26fb3259-9e21-4be2-924b-b5752171d1dd",
   "metadata": {},
   "outputs": [
    {
     "name": "stdout",
     "output_type": "stream",
     "text": [
      "                                              Age Hours.at.Gym..per.week.\n",
      "Age                                   1.000000000             -0.32276478\n",
      "Hours.at.Gym..per.week.              -0.322764782              1.00000000\n",
      "Gym.Membership.Length..years.         0.016811234              0.65891612\n",
      "Calorie.Intake                        0.003635904             -0.05613725\n",
      "Average.Weekly.Consumption..Bottles. -0.148706451              0.39986194\n",
      "Average.Spend.on.Apparel....year.     0.050361975              0.02113767\n",
      "Average.Spend.per.Meal.Order         -0.034495453             -0.01686721\n",
      "                                     Gym.Membership.Length..years.\n",
      "Age                                                     0.01681123\n",
      "Hours.at.Gym..per.week.                                 0.65891612\n",
      "Gym.Membership.Length..years.                           1.00000000\n",
      "Calorie.Intake                                          0.04322879\n",
      "Average.Weekly.Consumption..Bottles.                    0.29390969\n",
      "Average.Spend.on.Apparel....year.                       0.04715159\n",
      "Average.Spend.per.Meal.Order                            0.09194926\n",
      "                                     Calorie.Intake\n",
      "Age                                     0.003635904\n",
      "Hours.at.Gym..per.week.                -0.056137253\n",
      "Gym.Membership.Length..years.           0.043228789\n",
      "Calorie.Intake                          1.000000000\n",
      "Average.Weekly.Consumption..Bottles.    0.028048372\n",
      "Average.Spend.on.Apparel....year.      -0.017196732\n",
      "Average.Spend.per.Meal.Order            0.736329084\n",
      "                                     Average.Weekly.Consumption..Bottles.\n",
      "Age                                                          -0.148706451\n",
      "Hours.at.Gym..per.week.                                       0.399861942\n",
      "Gym.Membership.Length..years.                                 0.293909692\n",
      "Calorie.Intake                                                0.028048372\n",
      "Average.Weekly.Consumption..Bottles.                          1.000000000\n",
      "Average.Spend.on.Apparel....year.                            -0.003221952\n",
      "Average.Spend.per.Meal.Order                                  0.062515122\n",
      "                                     Average.Spend.on.Apparel....year.\n",
      "Age                                                       0.0503619751\n",
      "Hours.at.Gym..per.week.                                   0.0211376657\n",
      "Gym.Membership.Length..years.                             0.0471515864\n",
      "Calorie.Intake                                           -0.0171967324\n",
      "Average.Weekly.Consumption..Bottles.                     -0.0032219524\n",
      "Average.Spend.on.Apparel....year.                         1.0000000000\n",
      "Average.Spend.per.Meal.Order                              0.0006273487\n",
      "                                     Average.Spend.per.Meal.Order\n",
      "Age                                                 -0.0344954535\n",
      "Hours.at.Gym..per.week.                             -0.0168672063\n",
      "Gym.Membership.Length..years.                        0.0919492582\n",
      "Calorie.Intake                                       0.7363290842\n",
      "Average.Weekly.Consumption..Bottles.                 0.0625151218\n",
      "Average.Spend.on.Apparel....year.                    0.0006273487\n",
      "Average.Spend.per.Meal.Order                         1.0000000000\n"
     ]
    }
   ],
   "source": [
    "# Select relevant numerical columns\n",
    "numeric_columns <- integrated_data %>%\n",
    "  select(Age, Hours.at.Gym..per.week., Gym.Membership.Length..years., \n",
    "         Calorie.Intake, Average.Weekly.Consumption..Bottles., \n",
    "         Average.Spend.on.Apparel....year., Average.Spend.per.Meal.Order)\n",
    "\n",
    "# Calculate correlation matrix\n",
    "correlation_matrix <- cor(numeric_columns, use = \"complete.obs\")\n",
    "print(correlation_matrix)"
   ]
  },
  {
   "cell_type": "code",
   "execution_count": 18,
   "id": "409ad886-a0ea-43de-a7c7-40569c826bfb",
   "metadata": {},
   "outputs": [
    {
     "name": "stderr",
     "output_type": "stream",
     "text": [
      "Warning message:\n",
      "“\u001b[1m\u001b[22mRemoved 42 rows containing non-finite outside the scale range\n",
      "(`stat_boxplot()`).”\n",
      "Warning message:\n",
      "“\u001b[1m\u001b[22mRemoved 42 rows containing non-finite outside the scale range\n",
      "(`stat_boxplot()`).”\n"
     ]
    },
    {
     "data": {
      "image/png": "[encoded data removed]",
      "text/plain": [
       "plot without title"
      ]
     },
     "metadata": {
      "image/png": {
       "height": 420,
       "width": 420
      }
     },
     "output_type": "display_data"
    },
    {
     "name": "stderr",
     "output_type": "stream",
     "text": [
      "Warning message:\n",
      "“\u001b[1m\u001b[22mRemoved 42 rows containing non-finite outside the scale range\n",
      "(`stat_boxplot()`).”\n"
     ]
    },
    {
     "data": {
      "image/png": "[encoded data removed]",
      "text/plain": [
       "plot without title"
      ]
     },
     "metadata": {
      "image/png": {
       "height": 420,
       "width": 420
      }
     },
     "output_type": "display_data"
    },
    {
     "data": {
      "image/png": "[encoded data removed]",
      "text/plain": [
       "plot without title"
      ]
     },
     "metadata": {
      "image/png": {
       "height": 420,
       "width": 420
      }
     },
     "output_type": "display_data"
    }
   ],
   "source": [
    "library(ggplot2)\n",
    "\n",
    "# Boxplot for Average Spend per Meal Order by Gender\n",
    "ggplot(integrated_data, aes(x = Gender, y = Average.Spend.per.Meal.Order)) +\n",
    "  geom_boxplot() +\n",
    "  labs(title = \"Average Spend per Meal Order by Gender\")\n",
    "\n",
    "# Boxplot for Average Spend per Meal Order by Fitness Goal\n",
    "ggplot(integrated_data, aes(x = Fitness.Goal, y = Average.Spend.per.Meal.Order)) +\n",
    "  geom_boxplot() +\n",
    "  labs(title = \"Average Spend per Meal Order by Fitness Goal\")\n",
    "\n",
    "# Boxplot for Average Spend per Meal Order by Dietary Preferences\n",
    "ggplot(integrated_data, aes(x = Dietary.Preferences, y = Average.Spend.per.Meal.Order)) +\n",
    "  geom_boxplot() +\n",
    "  labs(title = \"Average Spend per Meal Order by Dietary Preferences\")"
   ]
  },
  {
   "cell_type": "code",
   "execution_count": 19,
   "id": "642e93b7-f377-4b28-b0b7-801a3c9b06a2",
   "metadata": {},
   "outputs": [
    {
     "data": {
      "text/plain": [
       "\n",
       "Call:\n",
       "lm(formula = Average.Spend.per.Meal.Order ~ Age + Hours.at.Gym..per.week. + \n",
       "    Gym.Membership.Length..years. + Calorie.Intake + Average.Weekly.Consumption..Bottles. + \n",
       "    Average.Spend.on.Apparel....year. + Gender + Fitness.Goal + \n",
       "    Dietary.Preferences, data = integrated_data)\n",
       "\n",
       "Residuals:\n",
       "     Min       1Q   Median       3Q      Max \n",
       "-19.4641  -3.5117   0.1021   3.5846  15.6681 \n",
       "\n",
       "Coefficients:\n",
       "                                      Estimate Std. Error t value Pr(>|t|)    \n",
       "(Intercept)                          -0.788538   3.915289  -0.201   0.8404    \n",
       "Age                                  -0.057290   0.042014  -1.364   0.1730    \n",
       "Hours.at.Gym..per.week.               0.755563   0.277495   2.723   0.0066 ** \n",
       "Gym.Membership.Length..years.         0.090232   0.175629   0.514   0.6075    \n",
       "Calorie.Intake                        0.020622   0.001129  18.266  < 2e-16 ***\n",
       "Average.Weekly.Consumption..Bottles. -0.003191   0.077744  -0.041   0.9673    \n",
       "Average.Spend.on.Apparel....year.     0.001092   0.001096   0.996   0.3193    \n",
       "GenderMale                           -0.429202   0.434263  -0.988   0.3233    \n",
       "GenderOther                          -0.327801   0.863634  -0.380   0.7044    \n",
       "Fitness.GoalEndurance training        1.389804   0.857615   1.621   0.1055    \n",
       "Fitness.GoalFat loss                  1.971526   1.245584   1.583   0.1138    \n",
       "Fitness.GoalFlexibility               1.726318   1.236555   1.396   0.1630    \n",
       "Fitness.GoalGeneral health            0.917444   0.849650   1.080   0.2805    \n",
       "Dietary.PreferencesHigh protein      -5.004851   0.912993  -5.482 5.50e-08 ***\n",
       "Dietary.PreferencesLow carb          -7.928176   0.987998  -8.024 3.26e-15 ***\n",
       "Dietary.PreferencesVegan             -1.560499   1.003032  -1.556   0.1201    \n",
       "Dietary.PreferencesWhole foods        5.214481   0.906879   5.750 1.23e-08 ***\n",
       "---\n",
       "Signif. codes:  0 ‘***’ 0.001 ‘**’ 0.01 ‘*’ 0.05 ‘.’ 0.1 ‘ ’ 1\n",
       "\n",
       "Residual standard error: 5.348 on 878 degrees of freedom\n",
       "  (105 observations deleted due to missingness)\n",
       "Multiple R-squared:  0.7631,\tAdjusted R-squared:  0.7588 \n",
       "F-statistic: 176.8 on 16 and 878 DF,  p-value: < 2.2e-16\n"
      ]
     },
     "metadata": {},
     "output_type": "display_data"
    }
   ],
   "source": [
    "# Build a linear regression model\n",
    "model_spend <- lm(Average.Spend.per.Meal.Order ~ Age + Hours.at.Gym..per.week. + Gym.Membership.Length..years. +\n",
    "                  Calorie.Intake + Average.Weekly.Consumption..Bottles. + Average.Spend.on.Apparel....year. +\n",
    "                  Gender + Fitness.Goal + Dietary.Preferences, \n",
    "                  data = integrated_data)\n",
    "\n",
    "# Summarize the model\n",
    "summary(model_spend)"
   ]
  },
  {
   "cell_type": "code",
   "execution_count": 20,
   "id": "723831c8-3736-4538-baf1-0734da997582",
   "metadata": {},
   "outputs": [
    {
     "data": {
      "text/html": [
       "0"
      ],
      "text/latex": [
       "0"
      ],
      "text/markdown": [
       "0"
      ],
      "text/plain": [
       "[1] 0"
      ]
     },
     "metadata": {},
     "output_type": "display_data"
    }
   ],
   "source": [
    "# Calculate the average Calorie.Intake for each combination of Fitness.Goal and Dietary.Preferences\n",
    "group_means2 <- integrated_data %>%\n",
    "  group_by(Dietary.Preferences, Average.Weekly.Consumption..Bottles.) %>%\n",
    "  summarise(mean_spend = mean(Average.Spend.per.Meal.Order, na.rm = TRUE), .groups = 'drop')\n",
    "\n",
    "# Fill in missing Calorie.Intake values based on group means\n",
    "integrated_data <- integrated_data %>%\n",
    "  left_join(group_means2, by = c(\"Dietary.Preferences\", \"Average.Weekly.Consumption..Bottles.\")) %>%\n",
    "  mutate(Average.Spend.per.Meal.Order = ifelse(is.na(Average.Spend.per.Meal.Order), mean_spend, Average.Spend.per.Meal.Order)) %>%\n",
    "  select(-mean_spend) # Remove the temporary column\n",
    "\n",
    "# Verify the result\n",
    "sum(is.na(integrated_data$Average.Spend.per.Meal.Order))"
   ]
  },
  {
   "cell_type": "code",
   "execution_count": 21,
   "id": "df9660fa-31f9-4db3-800d-ecf0b603a5fc",
   "metadata": {},
   "outputs": [
    {
     "name": "stdout",
     "output_type": "stream",
     "text": [
      "Rows: 1,000\n",
      "Columns: 14\n",
      "$ Customer.ID                          \u001b[3m\u001b[90m<int>\u001b[39m\u001b[23m 221958, 771155, 231932, 465838, 3…\n",
      "$ Gender                               \u001b[3m\u001b[90m<chr>\u001b[39m\u001b[23m \"Female\", \"Female\", \"Male\", \"Fema…\n",
      "$ Age                                  \u001b[3m\u001b[90m<int>\u001b[39m\u001b[23m 27, 24, 22, 23, 18, 23, 30, 26, 3…\n",
      "$ Hours.at.Gym..per.week.              \u001b[3m\u001b[90m<dbl>\u001b[39m\u001b[23m 7.3, 6.2, 7.4, 6.0, 9.3, 5.7, 5.5…\n",
      "$ Fitness.Goal                         \u001b[3m\u001b[90m<chr>\u001b[39m\u001b[23m \"Build muscle\", \"Endurance traini…\n",
      "$ Gym.Membership.Length..years.        \u001b[3m\u001b[90m<int>\u001b[39m\u001b[23m 4, 4, 2, 0, 5, 1, 2, 1, 4, 0, 1, …\n",
      "$ Dietary.Preferences                  \u001b[3m\u001b[90m<chr>\u001b[39m\u001b[23m \"Whole foods\", \"Whole foods\", \"Wh…\n",
      "$ Average.Spend.per.Meal.Order         \u001b[3m\u001b[90m<dbl>\u001b[39m\u001b[23m 67.15, 52.94, 38.13, 61.44, 69.78…\n",
      "$ Preferred.Sports.Drink.Type          \u001b[3m\u001b[90m<chr>\u001b[39m\u001b[23m \"Electrolyte\", \"Electrolyte\", \"El…\n",
      "$ Average.Weekly.Consumption..Bottles. \u001b[3m\u001b[90m<int>\u001b[39m\u001b[23m 10, 11, 12, 10, 14, 10, 10, 10, 1…\n",
      "$ Average.Spend.on.Apparel....year.    \u001b[3m\u001b[90m<dbl>\u001b[39m\u001b[23m 643.34, 659.13, 761.12, 234.87, 5…\n",
      "$ Type.of.Apparel.Purchased            \u001b[3m\u001b[90m<chr>\u001b[39m\u001b[23m \"Accessories\", \"Leisure\", \"Perfor…\n",
      "$ Primary.Apparel.Purchase.Channel     \u001b[3m\u001b[90m<chr>\u001b[39m\u001b[23m \"Brand Website\", \"Physical Retail…\n",
      "$ Calorie.Intake                       \u001b[3m\u001b[90m<dbl>\u001b[39m\u001b[23m 2724.798, 2173.000, 1752.000, 288…\n"
     ]
    }
   ],
   "source": [
    "glimpse(integrated_data)"
   ]
  },
  {
   "cell_type": "code",
   "execution_count": 22,
   "id": "5484f4b9-d89b-4294-bc61-460c73bdc1e6",
   "metadata": {},
   "outputs": [
    {
     "data": {
      "text/plain": [
       "  Customer.ID        Gender               Age        Hours.at.Gym..per.week.\n",
       " Min.   :100404   Length:1000        Min.   :18.00   Min.   : 3.000         \n",
       " 1st Qu.:301536   Class :character   1st Qu.:23.00   1st Qu.: 5.300         \n",
       " Median :538556   Mode  :character   Median :27.00   Median : 6.100         \n",
       " Mean   :538112                      Mean   :27.13   Mean   : 6.149         \n",
       " 3rd Qu.:762517                      3rd Qu.:31.00   3rd Qu.: 7.100         \n",
       " Max.   :999684                      Max.   :44.00   Max.   :10.300         \n",
       "                                                     NA's   :65             \n",
       " Fitness.Goal       Gym.Membership.Length..years. Dietary.Preferences\n",
       " Length:1000        Min.   :0.000                 Length:1000        \n",
       " Class :character   1st Qu.:1.000                 Class :character   \n",
       " Mode  :character   Median :2.000                 Mode  :character   \n",
       "                    Mean   :2.507                                    \n",
       "                    3rd Qu.:4.000                                    \n",
       "                    Max.   :7.000                                    \n",
       "                                                                     \n",
       " Average.Spend.per.Meal.Order Preferred.Sports.Drink.Type\n",
       " Min.   :21.75                Length:1000                \n",
       " 1st Qu.:42.45                Class :character           \n",
       " Median :50.18                Mode  :character           \n",
       " Mean   :50.09                                           \n",
       " 3rd Qu.:57.26                                           \n",
       " Max.   :80.59                                           \n",
       "                                                         \n",
       " Average.Weekly.Consumption..Bottles. Average.Spend.on.Apparel....year.\n",
       " Min.   : 4.00                        Min.   :   0.0                   \n",
       " 1st Qu.: 8.00                        1st Qu.: 585.0                   \n",
       " Median :10.00                        Median : 713.3                   \n",
       " Mean   :10.14                        Mean   : 700.1                   \n",
       " 3rd Qu.:12.00                        3rd Qu.: 836.9                   \n",
       " Max.   :20.00                        Max.   :1152.4                   \n",
       "                                                                       \n",
       " Type.of.Apparel.Purchased Primary.Apparel.Purchase.Channel Calorie.Intake\n",
       " Length:1000               Length:1000                      Min.   :1500  \n",
       " Class :character          Class :character                 1st Qu.:1920  \n",
       " Mode  :character          Mode  :character                 Median :2307  \n",
       "                                                            Mean   :2295  \n",
       "                                                            3rd Qu.:2690  \n",
       "                                                            Max.   :2997  \n",
       "                                                                          "
      ]
     },
     "metadata": {},
     "output_type": "display_data"
    }
   ],
   "source": [
    "summary(integrated_data)"
   ]
  },
  {
   "cell_type": "code",
   "execution_count": 23,
   "id": "ebd3b7f4-ac29-47f9-a152-e60f54ae7c44",
   "metadata": {},
   "outputs": [
    {
     "data": {
      "text/html": [
       "<style>\n",
       ".dl-inline {width: auto; margin:0; padding: 0}\n",
       ".dl-inline>dt, .dl-inline>dd {float: none; width: auto; display: inline-block}\n",
       ".dl-inline>dt::after {content: \":\\0020\"; padding-right: .5ex}\n",
       ".dl-inline>dt:not(:first-of-type) {padding-left: .5ex}\n",
       "</style><dl class=dl-inline><dt>Customer.ID</dt><dd>0</dd><dt>Gender</dt><dd>0</dd><dt>Age</dt><dd>0</dd><dt>Hours.at.Gym..per.week.</dt><dd>65</dd><dt>Fitness.Goal</dt><dd>0</dd><dt>Gym.Membership.Length..years.</dt><dd>0</dd><dt>Dietary.Preferences</dt><dd>0</dd><dt>Average.Spend.per.Meal.Order</dt><dd>0</dd><dt>Preferred.Sports.Drink.Type</dt><dd>0</dd><dt>Average.Weekly.Consumption..Bottles.</dt><dd>0</dd><dt>Average.Spend.on.Apparel....year.</dt><dd>0</dd><dt>Type.of.Apparel.Purchased</dt><dd>0</dd><dt>Primary.Apparel.Purchase.Channel</dt><dd>0</dd><dt>Calorie.Intake</dt><dd>0</dd></dl>\n"
      ],
      "text/latex": [
       "\\begin{description*}\n",
       "\\item[Customer.ID] 0\n",
       "\\item[Gender] 0\n",
       "\\item[Age] 0\n",
       "\\item[Hours.at.Gym..per.week.] 65\n",
       "\\item[Fitness.Goal] 0\n",
       "\\item[Gym.Membership.Length..years.] 0\n",
       "\\item[Dietary.Preferences] 0\n",
       "\\item[Average.Spend.per.Meal.Order] 0\n",
       "\\item[Preferred.Sports.Drink.Type] 0\n",
       "\\item[Average.Weekly.Consumption..Bottles.] 0\n",
       "\\item[Average.Spend.on.Apparel....year.] 0\n",
       "\\item[Type.of.Apparel.Purchased] 0\n",
       "\\item[Primary.Apparel.Purchase.Channel] 0\n",
       "\\item[Calorie.Intake] 0\n",
       "\\end{description*}\n"
      ],
      "text/markdown": [
       "Customer.ID\n",
       ":   0Gender\n",
       ":   0Age\n",
       ":   0Hours.at.Gym..per.week.\n",
       ":   65Fitness.Goal\n",
       ":   0Gym.Membership.Length..years.\n",
       ":   0Dietary.Preferences\n",
       ":   0Average.Spend.per.Meal.Order\n",
       ":   0Preferred.Sports.Drink.Type\n",
       ":   0Average.Weekly.Consumption..Bottles.\n",
       ":   0Average.Spend.on.Apparel....year.\n",
       ":   0Type.of.Apparel.Purchased\n",
       ":   0Primary.Apparel.Purchase.Channel\n",
       ":   0Calorie.Intake\n",
       ":   0\n",
       "\n"
      ],
      "text/plain": [
       "                         Customer.ID                               Gender \n",
       "                                   0                                    0 \n",
       "                                 Age              Hours.at.Gym..per.week. \n",
       "                                   0                                   65 \n",
       "                        Fitness.Goal        Gym.Membership.Length..years. \n",
       "                                   0                                    0 \n",
       "                 Dietary.Preferences         Average.Spend.per.Meal.Order \n",
       "                                   0                                    0 \n",
       "         Preferred.Sports.Drink.Type Average.Weekly.Consumption..Bottles. \n",
       "                                   0                                    0 \n",
       "   Average.Spend.on.Apparel....year.            Type.of.Apparel.Purchased \n",
       "                                   0                                    0 \n",
       "    Primary.Apparel.Purchase.Channel                       Calorie.Intake \n",
       "                                   0                                    0 "
      ]
     },
     "metadata": {},
     "output_type": "display_data"
    }
   ],
   "source": [
    "colSums(is.na(integrated_data))"
   ]
  },
  {
   "cell_type": "code",
   "execution_count": 24,
   "id": "332f4556-c15c-417d-a15d-cbcc894f9ac4",
   "metadata": {},
   "outputs": [
    {
     "name": "stdout",
     "output_type": "stream",
     "text": [
      "                                     Hours.at.Gym..per.week.         Age\n",
      "Hours.at.Gym..per.week.                           1.00000000 -0.31709453\n",
      "Age                                              -0.31709453  1.00000000\n",
      "Calorie.Intake                                   -0.06325940  0.01062716\n",
      "Gym.Membership.Length..years.                     0.65292327  0.02755500\n",
      "Average.Spend.per.Meal.Order                     -0.02025881 -0.03490870\n",
      "Average.Weekly.Consumption..Bottles.              0.39360923 -0.14289192\n",
      "Average.Spend.on.Apparel....year.                 0.01946026  0.04317453\n",
      "                                     Calorie.Intake\n",
      "Hours.at.Gym..per.week.                 -0.06325940\n",
      "Age                                      0.01062716\n",
      "Calorie.Intake                           1.00000000\n",
      "Gym.Membership.Length..years.            0.03706987\n",
      "Average.Spend.per.Meal.Order             0.71053814\n",
      "Average.Weekly.Consumption..Bottles.     0.02816611\n",
      "Average.Spend.on.Apparel....year.       -0.01828948\n",
      "                                     Gym.Membership.Length..years.\n",
      "Hours.at.Gym..per.week.                                 0.65292327\n",
      "Age                                                     0.02755500\n",
      "Calorie.Intake                                          0.03706987\n",
      "Gym.Membership.Length..years.                           1.00000000\n",
      "Average.Spend.per.Meal.Order                            0.08758387\n",
      "Average.Weekly.Consumption..Bottles.                    0.28842687\n",
      "Average.Spend.on.Apparel....year.                       0.03123369\n",
      "                                     Average.Spend.per.Meal.Order\n",
      "Hours.at.Gym..per.week.                              -0.020258806\n",
      "Age                                                  -0.034908695\n",
      "Calorie.Intake                                        0.710538141\n",
      "Gym.Membership.Length..years.                         0.087583874\n",
      "Average.Spend.per.Meal.Order                          1.000000000\n",
      "Average.Weekly.Consumption..Bottles.                  0.062188996\n",
      "Average.Spend.on.Apparel....year.                    -0.002281869\n",
      "                                     Average.Weekly.Consumption..Bottles.\n",
      "Hours.at.Gym..per.week.                                        0.39360923\n",
      "Age                                                           -0.14289192\n",
      "Calorie.Intake                                                 0.02816611\n",
      "Gym.Membership.Length..years.                                  0.28842687\n",
      "Average.Spend.per.Meal.Order                                   0.06218900\n",
      "Average.Weekly.Consumption..Bottles.                           1.00000000\n",
      "Average.Spend.on.Apparel....year.                             -0.01023812\n",
      "                                     Average.Spend.on.Apparel....year.\n",
      "Hours.at.Gym..per.week.                                    0.019460260\n",
      "Age                                                        0.043174528\n",
      "Calorie.Intake                                            -0.018289477\n",
      "Gym.Membership.Length..years.                              0.031233694\n",
      "Average.Spend.per.Meal.Order                              -0.002281869\n",
      "Average.Weekly.Consumption..Bottles.                      -0.010238116\n",
      "Average.Spend.on.Apparel....year.                          1.000000000\n"
     ]
    }
   ],
   "source": [
    "# Select relevant numerical columns\n",
    "numeric_columns_gym <- integrated_data %>%\n",
    "  select(Hours.at.Gym..per.week., Age, Calorie.Intake, Gym.Membership.Length..years.,\n",
    "         Average.Spend.per.Meal.Order, Average.Weekly.Consumption..Bottles., Average.Spend.on.Apparel....year.)\n",
    "\n",
    "# Calculate correlation matrix\n",
    "correlation_matrix_gym <- cor(numeric_columns_gym, use = \"complete.obs\")\n",
    "print(correlation_matrix_gym)"
   ]
  },
  {
   "cell_type": "code",
   "execution_count": 25,
   "id": "14abbacd-0bea-481a-8f7f-978471df7838",
   "metadata": {},
   "outputs": [
    {
     "name": "stderr",
     "output_type": "stream",
     "text": [
      "Warning message:\n",
      "“\u001b[1m\u001b[22mRemoved 65 rows containing non-finite outside the scale range\n",
      "(`stat_boxplot()`).”\n",
      "Warning message:\n",
      "“\u001b[1m\u001b[22mRemoved 65 rows containing non-finite outside the scale range\n",
      "(`stat_boxplot()`).”\n"
     ]
    },
    {
     "data": {
      "image/png": "[encoded data removed]",
      "text/plain": [
       "plot without title"
      ]
     },
     "metadata": {
      "image/png": {
       "height": 420,
       "width": 420
      }
     },
     "output_type": "display_data"
    },
    {
     "name": "stderr",
     "output_type": "stream",
     "text": [
      "Warning message:\n",
      "“\u001b[1m\u001b[22mRemoved 65 rows containing non-finite outside the scale range\n",
      "(`stat_boxplot()`).”\n"
     ]
    },
    {
     "data": {
      "image/png": "[encoded data removed]",
      "text/plain": [
       "plot without title"
      ]
     },
     "metadata": {
      "image/png": {
       "height": 420,
       "width": 420
      }
     },
     "output_type": "display_data"
    },
    {
     "data": {
      "image/png": "[encoded data removed]",
      "text/plain": [
       "plot without title"
      ]
     },
     "metadata": {
      "image/png": {
       "height": 420,
       "width": 420
      }
     },
     "output_type": "display_data"
    }
   ],
   "source": [
    "library(ggplot2)\n",
    "\n",
    "# Boxplot for Hours at Gym per Week by Fitness Goal\n",
    "ggplot(integrated_data, aes(x = Fitness.Goal, y = Hours.at.Gym..per.week.)) +\n",
    "  geom_boxplot() +\n",
    "  labs(title = \"Hours at Gym per Week by Fitness Goal\")\n",
    "\n",
    "# Boxplot for Hours at Gym per Week by Dietary Preferences\n",
    "ggplot(integrated_data, aes(x = Dietary.Preferences, y = Hours.at.Gym..per.week.)) +\n",
    "  geom_boxplot() +\n",
    "  labs(title = \"Hours at Gym per Week by Dietary Preferences\")\n",
    "\n",
    "# Boxplot for Hours at Gym per Week by Gender\n",
    "ggplot(integrated_data, aes(x = Gender, y = Hours.at.Gym..per.week.)) +\n",
    "  geom_boxplot() +\n",
    "  labs(title = \"Hours at Gym per Week by Gender\")"
   ]
  },
  {
   "cell_type": "code",
   "execution_count": 26,
   "id": "6e4c4b94-7fd3-4320-b1d6-3a51636c7dd4",
   "metadata": {},
   "outputs": [
    {
     "data": {
      "text/plain": [
       "\n",
       "Call:\n",
       "lm(formula = Hours.at.Gym..per.week. ~ Age + Calorie.Intake + \n",
       "    Gym.Membership.Length..years. + Average.Spend.per.Meal.Order + \n",
       "    Average.Weekly.Consumption..Bottles. + Average.Spend.on.Apparel....year. + \n",
       "    Fitness.Goal + Dietary.Preferences + Gender, data = integrated_data)\n",
       "\n",
       "Residuals:\n",
       "     Min       1Q   Median       3Q      Max \n",
       "-1.99051 -0.47818 -0.00105  0.50299  1.62585 \n",
       "\n",
       "Coefficients:\n",
       "                                       Estimate Std. Error t value Pr(>|t|)    \n",
       "(Intercept)                           6.6380291  0.4151291  15.990  < 2e-16 ***\n",
       "Age                                  -0.0743211  0.0043809 -16.965  < 2e-16 ***\n",
       "Calorie.Intake                       -0.0003559  0.0001538  -2.314  0.02089 *  \n",
       "Gym.Membership.Length..years.         0.4793096  0.0137170  34.943  < 2e-16 ***\n",
       "Average.Spend.per.Meal.Order          0.0106064  0.0038951   2.723  0.00659 ** \n",
       "Average.Weekly.Consumption..Bottles.  0.0519027  0.0091730   5.658 2.04e-08 ***\n",
       "Average.Spend.on.Apparel....year.     0.0001808  0.0001317   1.372  0.17032    \n",
       "Fitness.GoalEndurance training       -0.7548655  0.1002769  -7.528 1.23e-13 ***\n",
       "Fitness.GoalFat loss                  0.6286491  0.1478993   4.251 2.35e-05 ***\n",
       "Fitness.GoalFlexibility              -0.7374267  0.1469446  -5.018 6.26e-07 ***\n",
       "Fitness.GoalGeneral health           -0.7497807  0.0995047  -7.535 1.17e-13 ***\n",
       "Dietary.PreferencesHigh protein       0.1894549  0.1103581   1.717  0.08637 .  \n",
       "Dietary.PreferencesLow carb           0.2596014  0.1218977   2.130  0.03346 *  \n",
       "Dietary.PreferencesVegan              0.0863022  0.1201426   0.718  0.47274    \n",
       "Dietary.PreferencesWhole foods        0.0624787  0.1102805   0.567  0.57116    \n",
       "GenderMale                           -0.0501225  0.0522376  -0.960  0.33755    \n",
       "GenderOther                           0.1208757  0.1023532   1.181  0.23792    \n",
       "---\n",
       "Signif. codes:  0 ‘***’ 0.001 ‘**’ 0.01 ‘*’ 0.05 ‘.’ 0.1 ‘ ’ 1\n",
       "\n",
       "Residual standard error: 0.6548 on 918 degrees of freedom\n",
       "  (65 observations deleted due to missingness)\n",
       "Multiple R-squared:  0.7441,\tAdjusted R-squared:  0.7396 \n",
       "F-statistic: 166.8 on 16 and 918 DF,  p-value: < 2.2e-16\n"
      ]
     },
     "metadata": {},
     "output_type": "display_data"
    }
   ],
   "source": [
    "# Build a linear regression model\n",
    "model_gym <- lm(Hours.at.Gym..per.week. ~ Age + Calorie.Intake + Gym.Membership.Length..years. +\n",
    "                Average.Spend.per.Meal.Order + Average.Weekly.Consumption..Bottles. +\n",
    "                Average.Spend.on.Apparel....year. + Fitness.Goal + Dietary.Preferences + Gender,\n",
    "                data = integrated_data)\n",
    "\n",
    "# Summarize the model\n",
    "summary(model_gym)"
   ]
  },
  {
   "cell_type": "code",
   "execution_count": 27,
   "id": "3e9686f0-5a8e-4195-858f-1bb8a154882f",
   "metadata": {},
   "outputs": [
    {
     "data": {
      "text/html": [
       "0"
      ],
      "text/latex": [
       "0"
      ],
      "text/markdown": [
       "0"
      ],
      "text/plain": [
       "[1] 0"
      ]
     },
     "metadata": {},
     "output_type": "display_data"
    }
   ],
   "source": [
    "# Calculate the average Hours.at.Gym..per.week. for each combination of Fitness.Goal and Dietary.Preferences\n",
    "group_means_gym <- integrated_data %>%\n",
    "  group_by(Fitness.Goal, Dietary.Preferences) %>%\n",
    "  summarise(mean_hours_gym = mean(Hours.at.Gym..per.week., na.rm = TRUE), .groups = 'drop')\n",
    "\n",
    "# Fill in missing Hours.at.Gym..per.week. values based on group means\n",
    "integrated_data <- integrated_data %>%\n",
    "  left_join(group_means_gym, by = c(\"Fitness.Goal\", \"Dietary.Preferences\")) %>%\n",
    "  mutate(Hours.at.Gym..per.week. = ifelse(is.na(Hours.at.Gym..per.week.), mean_hours_gym, Hours.at.Gym..per.week.)) %>%\n",
    "  select(-mean_hours_gym) # Remove the temporary column\n",
    "\n",
    "# Verify the result\n",
    "sum(is.na(integrated_data$Hours.at.Gym..per.week.))"
   ]
  },
  {
   "cell_type": "code",
   "execution_count": 28,
   "id": "93fdbd72-f5ea-494c-8cab-12a59affbc80",
   "metadata": {},
   "outputs": [
    {
     "data": {
      "text/html": [
       "<style>\n",
       ".dl-inline {width: auto; margin:0; padding: 0}\n",
       ".dl-inline>dt, .dl-inline>dd {float: none; width: auto; display: inline-block}\n",
       ".dl-inline>dt::after {content: \":\\0020\"; padding-right: .5ex}\n",
       ".dl-inline>dt:not(:first-of-type) {padding-left: .5ex}\n",
       "</style><dl class=dl-inline><dt>Customer.ID</dt><dd>0</dd><dt>Gender</dt><dd>0</dd><dt>Age</dt><dd>0</dd><dt>Hours.at.Gym..per.week.</dt><dd>0</dd><dt>Fitness.Goal</dt><dd>0</dd><dt>Gym.Membership.Length..years.</dt><dd>0</dd><dt>Dietary.Preferences</dt><dd>0</dd><dt>Average.Spend.per.Meal.Order</dt><dd>0</dd><dt>Preferred.Sports.Drink.Type</dt><dd>0</dd><dt>Average.Weekly.Consumption..Bottles.</dt><dd>0</dd><dt>Average.Spend.on.Apparel....year.</dt><dd>0</dd><dt>Type.of.Apparel.Purchased</dt><dd>0</dd><dt>Primary.Apparel.Purchase.Channel</dt><dd>0</dd><dt>Calorie.Intake</dt><dd>0</dd></dl>\n"
      ],
      "text/latex": [
       "\\begin{description*}\n",
       "\\item[Customer.ID] 0\n",
       "\\item[Gender] 0\n",
       "\\item[Age] 0\n",
       "\\item[Hours.at.Gym..per.week.] 0\n",
       "\\item[Fitness.Goal] 0\n",
       "\\item[Gym.Membership.Length..years.] 0\n",
       "\\item[Dietary.Preferences] 0\n",
       "\\item[Average.Spend.per.Meal.Order] 0\n",
       "\\item[Preferred.Sports.Drink.Type] 0\n",
       "\\item[Average.Weekly.Consumption..Bottles.] 0\n",
       "\\item[Average.Spend.on.Apparel....year.] 0\n",
       "\\item[Type.of.Apparel.Purchased] 0\n",
       "\\item[Primary.Apparel.Purchase.Channel] 0\n",
       "\\item[Calorie.Intake] 0\n",
       "\\end{description*}\n"
      ],
      "text/markdown": [
       "Customer.ID\n",
       ":   0Gender\n",
       ":   0Age\n",
       ":   0Hours.at.Gym..per.week.\n",
       ":   0Fitness.Goal\n",
       ":   0Gym.Membership.Length..years.\n",
       ":   0Dietary.Preferences\n",
       ":   0Average.Spend.per.Meal.Order\n",
       ":   0Preferred.Sports.Drink.Type\n",
       ":   0Average.Weekly.Consumption..Bottles.\n",
       ":   0Average.Spend.on.Apparel....year.\n",
       ":   0Type.of.Apparel.Purchased\n",
       ":   0Primary.Apparel.Purchase.Channel\n",
       ":   0Calorie.Intake\n",
       ":   0\n",
       "\n"
      ],
      "text/plain": [
       "                         Customer.ID                               Gender \n",
       "                                   0                                    0 \n",
       "                                 Age              Hours.at.Gym..per.week. \n",
       "                                   0                                    0 \n",
       "                        Fitness.Goal        Gym.Membership.Length..years. \n",
       "                                   0                                    0 \n",
       "                 Dietary.Preferences         Average.Spend.per.Meal.Order \n",
       "                                   0                                    0 \n",
       "         Preferred.Sports.Drink.Type Average.Weekly.Consumption..Bottles. \n",
       "                                   0                                    0 \n",
       "   Average.Spend.on.Apparel....year.            Type.of.Apparel.Purchased \n",
       "                                   0                                    0 \n",
       "    Primary.Apparel.Purchase.Channel                       Calorie.Intake \n",
       "                                   0                                    0 "
      ]
     },
     "metadata": {},
     "output_type": "display_data"
    }
   ],
   "source": [
    "colSums(is.na(integrated_data))"
   ]
  },
  {
   "cell_type": "markdown",
   "id": "ab8e6862-b908-4c49-8d05-f9ba5ff557d1",
   "metadata": {},
   "source": [
    "## Additional Visualizations"
   ]
  },
  {
   "cell_type": "code",
   "execution_count": 29,
   "id": "74a3bc7a-bb1c-49ae-ac17-6eacaad65ffd",
   "metadata": {},
   "outputs": [
    {
     "data": {
      "image/png": "[encoded data removed]",
      "text/plain": [
       "plot without title"
      ]
     },
     "metadata": {
      "image/png": {
       "height": 420,
       "width": 420
      }
     },
     "output_type": "display_data"
    }
   ],
   "source": [
    "ggplot(integrated_data, aes(x = Fitness.Goal)) +\n",
    "  geom_bar(fill = \"skyblue\") +\n",
    "  labs(title = \"Bar Chart with Counts\", x = \"Category\", y = \"Count\") +\n",
    "  theme_minimal()"
   ]
  },
  {
   "cell_type": "code",
   "execution_count": 30,
   "id": "fdc88ead-1a07-4771-8d6a-0a30c9404ea1",
   "metadata": {},
   "outputs": [
    {
     "data": {
      "image/png": "[encoded data removed]",
      "text/plain": [
       "plot without title"
      ]
     },
     "metadata": {
      "image/png": {
       "height": 420,
       "width": 420
      }
     },
     "output_type": "display_data"
    }
   ],
   "source": [
    "ggplot(integrated_data, aes(x = Average.Spend.per.Meal.Order)) +\n",
    "  geom_bar(fill = \"skyblue\") +\n",
    "  labs(title = \"Bar Chart with Counts\", x = \"Category\", y = \"Count\") +\n",
    "  theme_minimal()"
   ]
  },
  {
   "cell_type": "code",
   "execution_count": 31,
   "id": "c0f25a69-eb8c-4af8-b059-69582ed9e6ae",
   "metadata": {},
   "outputs": [
    {
     "name": "stderr",
     "output_type": "stream",
     "text": [
      "Warning message:\n",
      "“\u001b[1m\u001b[22m`position_stack()` requires non-overlapping \u001b[32mx\u001b[39m intervals.”\n"
     ]
    },
    {
     "data": {
      "image/png": "[encoded data removed]",
      "text/plain": [
       "plot without title"
      ]
     },
     "metadata": {
      "image/png": {
       "height": 420,
       "width": 420
      }
     },
     "output_type": "display_data"
    }
   ],
   "source": [
    "ggplot(integrated_data, aes(x = Hours.at.Gym..per.week.)) +\n",
    "  geom_bar(fill = \"skyblue\") +\n",
    "  labs(title = \"Bar Chart with Counts\", x = \"Category\", y = \"Count\") +\n",
    "  theme_minimal()"
   ]
  },
  {
   "cell_type": "code",
   "execution_count": 32,
   "id": "56f24bd6-2c16-45d1-8ce1-9aafee314dac",
   "metadata": {},
   "outputs": [
    {
     "name": "stderr",
     "output_type": "stream",
     "text": [
      "ERROR while rich displaying an object: \u001b[1m\u001b[33mError\u001b[39m in `geom_bar()`:\u001b[22m\n",
      "\u001b[1m\u001b[22m\u001b[33m!\u001b[39m Problem while computing aesthetics.\n",
      "\u001b[36mℹ\u001b[39m Error occurred in the 1st layer.\n",
      "\u001b[1mCaused by error:\u001b[22m\n",
      "\u001b[33m!\u001b[39m object 'Calorie.Intake.x' not found\n",
      "\n",
      "Traceback:\n",
      "1. tryCatch(withCallingHandlers({\n",
      " .     if (!mime %in% names(repr::mime2repr)) \n",
      " .         stop(\"No repr_* for mimetype \", mime, \" in repr::mime2repr\")\n",
      " .     rpr <- repr::mime2repr[[mime]](obj)\n",
      " .     if (is.null(rpr)) \n",
      " .         return(NULL)\n",
      " .     prepare_content(is.raw(rpr), rpr)\n",
      " . }, error = error_handler), error = outer_handler)\n",
      "2. tryCatchList(expr, classes, parentenv, handlers)\n",
      "3. tryCatchOne(expr, names, parentenv, handlers[[1L]])\n",
      "4. doTryCatch(return(expr), name, parentenv, handler)\n",
      "5. withCallingHandlers({\n",
      " .     if (!mime %in% names(repr::mime2repr)) \n",
      " .         stop(\"No repr_* for mimetype \", mime, \" in repr::mime2repr\")\n",
      " .     rpr <- repr::mime2repr[[mime]](obj)\n",
      " .     if (is.null(rpr)) \n",
      " .         return(NULL)\n",
      " .     prepare_content(is.raw(rpr), rpr)\n",
      " . }, error = error_handler)\n",
      "6. repr::mime2repr[[mime]](obj)\n",
      "7. repr_text.default(obj)\n",
      "8. paste(capture.output(print(obj)), collapse = \"\\n\")\n",
      "9. capture.output(print(obj))\n",
      "10. withVisible(...elt(i))\n",
      "11. print(obj)\n",
      "12. print.ggplot(obj)\n",
      "13. ggplot_build(x)\n",
      "14. ggplot_build.ggplot(x)\n",
      "15. by_layer(function(l, d) l$compute_aesthetics(d, plot), layers, \n",
      "  .     data, \"computing aesthetics\")\n",
      "16. try_fetch(for (i in seq_along(data)) {\n",
      "  .     out[[i]] <- f(l = layers[[i]], d = data[[i]])\n",
      "  . }, error = function(cnd) {\n",
      "  .     cli::cli_abort(c(\"Problem while {step}.\", i = \"Error occurred in the {ordinal(i)} layer.\"), \n",
      "  .         call = layers[[i]]$constructor, parent = cnd)\n",
      "  . })\n",
      "17. tryCatch(withCallingHandlers(expr, condition = function(cnd) {\n",
      "  .     {\n",
      "  .         .__handler_frame__. <- TRUE\n",
      "  .         .__setup_frame__. <- frame\n",
      "  .         if (inherits(cnd, \"message\")) {\n",
      "  .             except <- c(\"warning\", \"error\")\n",
      "  .         }\n",
      "  .         else if (inherits(cnd, \"warning\")) {\n",
      "  .             except <- \"error\"\n",
      "  .         }\n",
      "  .         else {\n",
      "  .             except <- \"\"\n",
      "  .         }\n",
      "  .     }\n",
      "  .     while (!is_null(cnd)) {\n",
      "  .         if (inherits(cnd, \"error\")) {\n",
      "  .             out <- handlers[[1L]](cnd)\n",
      "  .             if (!inherits(out, \"rlang_zap\")) \n",
      "  .                 throw(out)\n",
      "  .         }\n",
      "  .         inherit <- .subset2(.subset2(cnd, \"rlang\"), \"inherit\")\n",
      "  .         if (is_false(inherit)) {\n",
      "  .             return()\n",
      "  .         }\n",
      "  .         cnd <- .subset2(cnd, \"parent\")\n",
      "  .     }\n",
      "  . }), stackOverflowError = handlers[[1L]])\n",
      "18. tryCatchList(expr, classes, parentenv, handlers)\n",
      "19. tryCatchOne(expr, names, parentenv, handlers[[1L]])\n",
      "20. doTryCatch(return(expr), name, parentenv, handler)\n",
      "21. withCallingHandlers(expr, condition = function(cnd) {\n",
      "  .     {\n",
      "  .         .__handler_frame__. <- TRUE\n",
      "  .         .__setup_frame__. <- frame\n",
      "  .         if (inherits(cnd, \"message\")) {\n",
      "  .             except <- c(\"warning\", \"error\")\n",
      "  .         }\n",
      "  .         else if (inherits(cnd, \"warning\")) {\n",
      "  .             except <- \"error\"\n",
      "  .         }\n",
      "  .         else {\n",
      "  .             except <- \"\"\n",
      "  .         }\n",
      "  .     }\n",
      "  .     while (!is_null(cnd)) {\n",
      "  .         if (inherits(cnd, \"error\")) {\n",
      "  .             out <- handlers[[1L]](cnd)\n",
      "  .             if (!inherits(out, \"rlang_zap\")) \n",
      "  .                 throw(out)\n",
      "  .         }\n",
      "  .         inherit <- .subset2(.subset2(cnd, \"rlang\"), \"inherit\")\n",
      "  .         if (is_false(inherit)) {\n",
      "  .             return()\n",
      "  .         }\n",
      "  .         cnd <- .subset2(cnd, \"parent\")\n",
      "  .     }\n",
      "  . })\n",
      "22. f(l = layers[[i]], d = data[[i]])\n",
      "23. l$compute_aesthetics(d, plot)\n",
      "24. compute_aesthetics(..., self = self)\n",
      "25. lapply(aesthetics, eval_tidy, data = data, env = env)\n",
      "26. FUN(X[[i]], ...)\n",
      "27. .handleSimpleError(function (cnd) \n",
      "  . {\n",
      "  .     {\n",
      "  .         .__handler_frame__. <- TRUE\n",
      "  .         .__setup_frame__. <- frame\n",
      "  .         if (inherits(cnd, \"message\")) {\n",
      "  .             except <- c(\"warning\", \"error\")\n",
      "  .         }\n",
      "  .         else if (inherits(cnd, \"warning\")) {\n",
      "  .             except <- \"error\"\n",
      "  .         }\n",
      "  .         else {\n",
      "  .             except <- \"\"\n",
      "  .         }\n",
      "  .     }\n",
      "  .     while (!is_null(cnd)) {\n",
      "  .         if (inherits(cnd, \"error\")) {\n",
      "  .             out <- handlers[[1L]](cnd)\n",
      "  .             if (!inherits(out, \"rlang_zap\")) \n",
      "  .                 throw(out)\n",
      "  .         }\n",
      "  .         inherit <- .subset2(.subset2(cnd, \"rlang\"), \"inherit\")\n",
      "  .         if (is_false(inherit)) {\n",
      "  .             return()\n",
      "  .         }\n",
      "  .         cnd <- .subset2(cnd, \"parent\")\n",
      "  .     }\n",
      "  . }, \"object 'Calorie.Intake.x' not found\", base::quote(NULL))\n",
      "28. h(simpleError(msg, call))\n",
      "29. handlers[[1L]](cnd)\n",
      "30. cli::cli_abort(c(\"Problem while {step}.\", i = \"Error occurred in the {ordinal(i)} layer.\"), \n",
      "  .     call = layers[[i]]$constructor, parent = cnd)\n",
      "31. rlang::abort(message, ..., call = call, use_cli_format = TRUE, \n",
      "  .     .frame = .frame)\n",
      "32. signal_abort(cnd, .file)\n"
     ]
    }
   ],
   "source": [
    "ggplot(integrated_data, aes(x = Calorie.Intake.x)) +\n",
    "  geom_bar(fill = \"skyblue\") +\n",
    "  labs(title = \"Bar Chart with Counts\", x = \"Category\", y = \"Count\") +\n",
    "  theme_minimal()"
   ]
  },
  {
   "cell_type": "code",
   "execution_count": null,
   "id": "13c3f490-d77d-4785-8e95-53c19b12bba8",
   "metadata": {},
   "outputs": [],
   "source": []
  },
  {
   "cell_type": "code",
   "execution_count": null,
   "id": "09f2bce8-57c9-41af-a901-0b6969226a0b",
   "metadata": {},
   "outputs": [],
   "source": []
  },
  {
   "cell_type": "code",
   "execution_count": null,
   "id": "b28e7734-57ab-4e9e-b0d1-37654c26c7c6",
   "metadata": {},
   "outputs": [],
   "source": []
  }
 ],
 "metadata": {
  "kernelspec": {
   "display_name": "R",
   "language": "R",
   "name": "ir"
  },
  "language_info": {
   "codemirror_mode": "r",
   "file_extension": ".r",
   "mimetype": "text/x-r-source",
   "name": "R",
   "pygments_lexer": "r",
   "version": "4.3.3"
  }
 },
 "nbformat": 4,
 "nbformat_minor": 5
}
